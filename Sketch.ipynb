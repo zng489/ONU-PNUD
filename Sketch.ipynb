{
 "cells": [
  {
   "cell_type": "code",
   "execution_count": 24,
   "id": "8e3c7ab3",
   "metadata": {},
   "outputs": [],
   "source": [
    "import pandas as pd\n",
    "import numpy as np"
   ]
  },
  {
   "cell_type": "code",
   "execution_count": 88,
   "id": "24a42dd5",
   "metadata": {},
   "outputs": [],
   "source": [
    "df = pd.read_csv('df_infojobs_t0_alin.csv',index_col=0)\n",
    "df\n",
    "\n",
    "df = df[df['3_situacao da vaga'] == 200]"
   ]
  },
  {
   "cell_type": "code",
   "execution_count": 89,
   "id": "6ee3174c",
   "metadata": {},
   "outputs": [],
   "source": [
    "#df = pd.read_csv('df_infojobs_t0_alin.csv',index_col=0)\n",
    "\n",
    "\n",
    "df_0 = df['url'].tolist()\n",
    "df_0 = pd.DataFrame(df_0)\n",
    "df_0.rename(columns={0:\"url\"},inplace=True)\n",
    "df_1 = df['codigo'].tolist()\n",
    "df_1 = pd.DataFrame(df_1)\n",
    "df_1.rename(columns={0:\"codigo\"},inplace=True)\n",
    "df_2 = df['data do scraping'].tolist()\n",
    "df_2 = pd.DataFrame(df_2)\n",
    "df_2.rename(columns={0:\"data_do_scraping\"},inplace=True)"
   ]
  },
  {
   "cell_type": "code",
   "execution_count": 90,
   "id": "743cfb8d",
   "metadata": {},
   "outputs": [],
   "source": [
    "result = pd.concat([df_0,df_1,df_2], axis=1)"
   ]
  },
  {
   "cell_type": "code",
   "execution_count": 91,
   "id": "aeda69a5",
   "metadata": {
    "scrolled": true
   },
   "outputs": [],
   "source": [
    "result.to_csv('infojobs_list_request.csv')"
   ]
  },
  {
   "cell_type": "code",
   "execution_count": 92,
   "id": "b18f7e4d",
   "metadata": {},
   "outputs": [
    {
     "data": {
      "text/html": [
       "<div>\n",
       "<style scoped>\n",
       "    .dataframe tbody tr th:only-of-type {\n",
       "        vertical-align: middle;\n",
       "    }\n",
       "\n",
       "    .dataframe tbody tr th {\n",
       "        vertical-align: top;\n",
       "    }\n",
       "\n",
       "    .dataframe thead th {\n",
       "        text-align: right;\n",
       "    }\n",
       "</style>\n",
       "<table border=\"1\" class=\"dataframe\">\n",
       "  <thead>\n",
       "    <tr style=\"text-align: right;\">\n",
       "      <th></th>\n",
       "      <th>url</th>\n",
       "      <th>codigo</th>\n",
       "      <th>data_do_scraping</th>\n",
       "    </tr>\n",
       "  </thead>\n",
       "  <tbody>\n",
       "    <tr>\n",
       "      <th>0</th>\n",
       "      <td>https://www.infojobs.com.br/vaga-de-atendiment...</td>\n",
       "      <td>7206929</td>\n",
       "      <td>2021-04-29</td>\n",
       "    </tr>\n",
       "    <tr>\n",
       "      <th>1</th>\n",
       "      <td>https://www.infojobs.com.br/vaga-de-consultor-...</td>\n",
       "      <td>7206056</td>\n",
       "      <td>2021-04-29</td>\n",
       "    </tr>\n",
       "    <tr>\n",
       "      <th>2</th>\n",
       "      <td>https://www.infojobs.com.br/vaga-de-instrutor-...</td>\n",
       "      <td>7207541</td>\n",
       "      <td>2021-04-29</td>\n",
       "    </tr>\n",
       "    <tr>\n",
       "      <th>3</th>\n",
       "      <td>https://www.infojobs.com.br/vaga-de-auxiliar-m...</td>\n",
       "      <td>7207543</td>\n",
       "      <td>2021-04-29</td>\n",
       "    </tr>\n",
       "    <tr>\n",
       "      <th>4</th>\n",
       "      <td>https://www.infojobs.com.br/vaga-de-comprador-...</td>\n",
       "      <td>7207535</td>\n",
       "      <td>2021-04-29</td>\n",
       "    </tr>\n",
       "    <tr>\n",
       "      <th>...</th>\n",
       "      <td>...</td>\n",
       "      <td>...</td>\n",
       "      <td>...</td>\n",
       "    </tr>\n",
       "    <tr>\n",
       "      <th>27887</th>\n",
       "      <td>https://www.infojobs.com.br/vaga-de-operador-c...</td>\n",
       "      <td>7222625</td>\n",
       "      <td>2021-05-15</td>\n",
       "    </tr>\n",
       "    <tr>\n",
       "      <th>27888</th>\n",
       "      <td>https://www.infojobs.com.br/vaga-de-cozinheiro...</td>\n",
       "      <td>7229146</td>\n",
       "      <td>2021-05-15</td>\n",
       "    </tr>\n",
       "    <tr>\n",
       "      <th>27889</th>\n",
       "      <td>https://www.infojobs.com.br/vaga-de-vendedor-l...</td>\n",
       "      <td>7221463</td>\n",
       "      <td>2021-05-15</td>\n",
       "    </tr>\n",
       "    <tr>\n",
       "      <th>27890</th>\n",
       "      <td>https://www.infojobs.com.br/vaga-de-ferramente...</td>\n",
       "      <td>7081901</td>\n",
       "      <td>2021-05-15</td>\n",
       "    </tr>\n",
       "    <tr>\n",
       "      <th>27891</th>\n",
       "      <td>https://www.infojobs.com.br/vaga-de-auxiliar-l...</td>\n",
       "      <td>7155922</td>\n",
       "      <td>2021-05-15</td>\n",
       "    </tr>\n",
       "  </tbody>\n",
       "</table>\n",
       "<p>27892 rows × 3 columns</p>\n",
       "</div>"
      ],
      "text/plain": [
       "                                                     url   codigo  \\\n",
       "0      https://www.infojobs.com.br/vaga-de-atendiment...  7206929   \n",
       "1      https://www.infojobs.com.br/vaga-de-consultor-...  7206056   \n",
       "2      https://www.infojobs.com.br/vaga-de-instrutor-...  7207541   \n",
       "3      https://www.infojobs.com.br/vaga-de-auxiliar-m...  7207543   \n",
       "4      https://www.infojobs.com.br/vaga-de-comprador-...  7207535   \n",
       "...                                                  ...      ...   \n",
       "27887  https://www.infojobs.com.br/vaga-de-operador-c...  7222625   \n",
       "27888  https://www.infojobs.com.br/vaga-de-cozinheiro...  7229146   \n",
       "27889  https://www.infojobs.com.br/vaga-de-vendedor-l...  7221463   \n",
       "27890  https://www.infojobs.com.br/vaga-de-ferramente...  7081901   \n",
       "27891  https://www.infojobs.com.br/vaga-de-auxiliar-l...  7155922   \n",
       "\n",
       "      data_do_scraping  \n",
       "0           2021-04-29  \n",
       "1           2021-04-29  \n",
       "2           2021-04-29  \n",
       "3           2021-04-29  \n",
       "4           2021-04-29  \n",
       "...                ...  \n",
       "27887       2021-05-15  \n",
       "27888       2021-05-15  \n",
       "27889       2021-05-15  \n",
       "27890       2021-05-15  \n",
       "27891       2021-05-15  \n",
       "\n",
       "[27892 rows x 3 columns]"
      ]
     },
     "execution_count": 92,
     "metadata": {},
     "output_type": "execute_result"
    }
   ],
   "source": [
    "result"
   ]
  },
  {
   "cell_type": "code",
   "execution_count": null,
   "id": "8ce9f5da",
   "metadata": {},
   "outputs": [],
   "source": [
    "3,511"
   ]
  }
 ],
 "metadata": {
  "kernelspec": {
   "display_name": "Python 3",
   "language": "python",
   "name": "python3"
  },
  "language_info": {
   "codemirror_mode": {
    "name": "ipython",
    "version": 3
   },
   "file_extension": ".py",
   "mimetype": "text/x-python",
   "name": "python",
   "nbconvert_exporter": "python",
   "pygments_lexer": "ipython3",
   "version": "3.6.13"
  }
 },
 "nbformat": 4,
 "nbformat_minor": 5
}
